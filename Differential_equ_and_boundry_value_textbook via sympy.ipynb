{
 "cells": [
  {
   "cell_type": "markdown",
   "metadata": {},
   "source": [
    "from section 2.1 of text"
   ]
  },
  {
   "cell_type": "code",
   "execution_count": 1,
   "metadata": {
    "collapsed": true
   },
   "outputs": [],
   "source": [
    "from sympy import *"
   ]
  },
  {
   "cell_type": "code",
   "execution_count": 2,
   "metadata": {
    "collapsed": false
   },
   "outputs": [],
   "source": [
    "t,m ,C ,g,k ,v =symbols('t m C g k v')"
   ]
  },
  {
   "cell_type": "code",
   "execution_count": 3,
   "metadata": {
    "collapsed": true
   },
   "outputs": [],
   "source": [
    "v = Function(\"v\")"
   ]
  },
  {
   "cell_type": "code",
   "execution_count": 4,
   "metadata": {
    "collapsed": false
   },
   "outputs": [
    {
     "data": {
      "text/plain": [
       "sympy.core.function.UndefinedFunction"
      ]
     },
     "execution_count": 4,
     "metadata": {},
     "output_type": "execute_result"
    }
   ],
   "source": [
    "type(v)"
   ]
  },
  {
   "cell_type": "code",
   "execution_count": 5,
   "metadata": {
    "collapsed": true
   },
   "outputs": [],
   "source": [
    "Fd,ro,A,Cd=symbols('Fd ro A Cd')"
   ]
  },
  {
   "cell_type": "code",
   "execution_count": 6,
   "metadata": {
    "collapsed": false
   },
   "outputs": [
    {
     "data": {
      "text/plain": [
       "Eq(Fd, 0.5*A*Cd*ro*v(t)**2)"
      ]
     },
     "execution_count": 6,
     "metadata": {},
     "output_type": "execute_result"
    }
   ],
   "source": [
    "drag=(Eq(Fd,1/2*ro*A*Cd*v(t)**2))\n",
    "drag"
   ]
  },
  {
   "cell_type": "raw",
   "metadata": {},
   "source": [
    "# Fd=1/2*ro*A*Cd*v**2\n",
    "# Fd\n",
    "solve(drag,v(t))"
   ]
  },
  {
   "cell_type": "code",
   "execution_count": 10,
   "metadata": {
    "collapsed": false,
    "scrolled": true
   },
   "outputs": [
    {
     "data": {
      "text/plain": [
       "Eq(m*Derivative(v(t), t), -0.5*A*Cd*ro*v(t)**2 + g*m)"
      ]
     },
     "execution_count": 10,
     "metadata": {},
     "output_type": "execute_result"
    }
   ],
   "source": [
    "equ=Eq(v(t).diff(t) *m , m*g-Fd).subs({Fd:drag.rhs})#k*v(t))\n",
    "#  9*f(x) + Derivative(f(x), x, x) == 1\n",
    "equ"
   ]
  },
  {
   "cell_type": "code",
   "execution_count": 11,
   "metadata": {
    "collapsed": false
   },
   "outputs": [
    {
     "data": {
      "text/plain": [
       "Eq(m*sqrt(1/(A*Cd*g*m*ro))*(0.707106781186548*log(-1.4142135623731*g*m*sqrt(1/(A*Cd*g*m*ro)) + 1.0*v(t)) - 0.707106781186548*log(1.4142135623731*g*m*sqrt(1/(A*Cd*g*m*ro)) + 1.0*v(t))), C1 - t)"
      ]
     },
     "execution_count": 11,
     "metadata": {},
     "output_type": "execute_result"
    }
   ],
   "source": [
    "sol=dsolve(equ, v(t))\n",
    "#  f(x) == C1*cos(3*x) + C2*sin(3*x) + 1/9\n",
    "sol"
   ]
  },
  {
   "cell_type": "code",
   "execution_count": 9,
   "metadata": {
    "collapsed": true
   },
   "outputs": [],
   "source": [
    "C1= Symbol('C1')"
   ]
  },
  {
   "cell_type": "code",
   "execution_count": null,
   "metadata": {
    "collapsed": false
   },
   "outputs": [],
   "source": [
    "sol.rhs.subs({t:0})"
   ]
  },
  {
   "cell_type": "code",
   "execution_count": null,
   "metadata": {
    "collapsed": false
   },
   "outputs": [],
   "source": [
    "C1_t0=solve(sol.subs({t:0}),C1)[0]\n",
    "C1_t0"
   ]
  },
  {
   "cell_type": "code",
   "execution_count": null,
   "metadata": {
    "collapsed": false
   },
   "outputs": [],
   "source": [
    "equation=sol.subs({C1:C1_t0})\n",
    "equation#.simplify(deep=True)"
   ]
  },
  {
   "cell_type": "code",
   "execution_count": null,
   "metadata": {
    "collapsed": false
   },
   "outputs": [],
   "source": [
    "simp=equation.subs({k:.5,g:9.8,m:40})\n",
    "simp"
   ]
  },
  {
   "cell_type": "code",
   "execution_count": null,
   "metadata": {
    "collapsed": false
   },
   "outputs": [],
   "source": [
    "simp.rhs.subs({v(0):10})"
   ]
  },
  {
   "cell_type": "raw",
   "metadata": {},
   "source": [
    "plot(equation,t)"
   ]
  },
  {
   "cell_type": "raw",
   "metadata": {
    "collapsed": true
   },
   "source": [
    "solve(sol.rhs.subs({C1:C1_t0}))"
   ]
  },
  {
   "cell_type": "code",
   "execution_count": null,
   "metadata": {
    "collapsed": true
   },
   "outputs": [],
   "source": [
    "# make a numpy-ready function from the sympy results\n",
    "from matplotlib import pyplot as plt\n",
    "# import seaborn as sns\n",
    "import numpy as np\n",
    "func = lambdify([t,v(0)], simp.rhs,'numpy')\n",
    "xvals = np.arange(0,100,1)"
   ]
  },
  {
   "cell_type": "code",
   "execution_count": null,
   "metadata": {
    "collapsed": false
   },
   "outputs": [],
   "source": [
    "v"
   ]
  },
  {
   "cell_type": "code",
   "execution_count": null,
   "metadata": {
    "collapsed": false
   },
   "outputs": [],
   "source": [
    "func(10,0)"
   ]
  },
  {
   "cell_type": "code",
   "execution_count": null,
   "metadata": {
    "collapsed": false
   },
   "outputs": [],
   "source": [
    "vVals=np.arange(0,30,1)\n",
    "xx,yy=np.meshgrid(xvals,vVals)"
   ]
  },
  {
   "cell_type": "code",
   "execution_count": null,
   "metadata": {
    "collapsed": false
   },
   "outputs": [],
   "source": [
    "yvals = func(xx,yy)\n",
    "yvals.shape"
   ]
  },
  {
   "cell_type": "code",
   "execution_count": null,
   "metadata": {
    "collapsed": false
   },
   "outputs": [],
   "source": [
    "# make figure\n",
    "fig, ax = plt.subplots(1,1)#,subplot_kw=dict(aspect='equal'))     \n",
    "ax.contour(xx,yvals, yy)\n",
    "ax.set_xlabel('t')\n",
    "ax.set_ylabel('v(t)')\n",
    "plt.show()"
   ]
  },
  {
   "cell_type": "code",
   "execution_count": null,
   "metadata": {
    "collapsed": false
   },
   "outputs": [],
   "source": [
    "integrate(1/m+C,(t))"
   ]
  },
  {
   "cell_type": "code",
   "execution_count": null,
   "metadata": {
    "collapsed": false
   },
   "outputs": [],
   "source": [
    "from sympy import *\n",
    "\n",
    "m = float(input('Mass:\\n> '))\n",
    "g = 9.8\n",
    "k = float(input('Drag Coefficient:\\n> '))\n",
    "f = Function('f')\n",
    "f1 = g * m\n",
    "t = Symbol('t')\n",
    "v = Function('v')\n",
    "equation = dsolve(f1 - k * v(t) - m * Derivative(v(t)), 0)\n",
    "print(equation)\n",
    "C1 = Symbol('C1')\n",
    "C1_ic = solve(equation.rhs.subs({t:0}),C1)[0]\n",
    "equation = equation.subs({C1:C1_ic})\n",
    "print(equation,equation.rhs,C1_ic)\n",
    "plot(equation.rhs,(t,0.0,100.0))"
   ]
  },
  {
   "cell_type": "code",
   "execution_count": null,
   "metadata": {
    "collapsed": true
   },
   "outputs": [],
   "source": []
  },
  {
   "cell_type": "code",
   "execution_count": null,
   "metadata": {
    "collapsed": true
   },
   "outputs": [],
   "source": []
  }
 ],
 "metadata": {
  "kernelspec": {
   "display_name": "Python 3",
   "language": "python",
   "name": "python3"
  },
  "language_info": {
   "codemirror_mode": {
    "name": "ipython",
    "version": 3
   },
   "file_extension": ".py",
   "mimetype": "text/x-python",
   "name": "python",
   "nbconvert_exporter": "python",
   "pygments_lexer": "ipython3",
   "version": "3.5.2"
  }
 },
 "nbformat": 4,
 "nbformat_minor": 2
}
