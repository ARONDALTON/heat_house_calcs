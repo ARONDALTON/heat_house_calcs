{
 "cells": [
  {
   "cell_type": "markdown",
   "metadata": {},
   "source": [
    "environmental exchanges details from bbc doc - renewable energy power surge"
   ]
  },
  {
   "cell_type": "markdown",
   "metadata": {},
   "source": [
    "1 neuclear plant == 3000 big wind turbins == 50 miles square of solar"
   ]
  },
  {
   "cell_type": "code",
   "execution_count": 1,
   "metadata": {
    "collapsed": false
   },
   "outputs": [
    {
     "ename": "NameError",
     "evalue": "name 'solar_cost' is not defined",
     "output_type": "error",
     "traceback": [
      "\u001b[1;31m---------------------------------------------------------------------------\u001b[0m",
      "\u001b[1;31mNameError\u001b[0m                                 Traceback (most recent call last)",
      "\u001b[1;32m<ipython-input-1-4594b5ff8a12>\u001b[0m in \u001b[0;36m<module>\u001b[1;34m()\u001b[0m\n\u001b[0;32m      8\u001b[0m     \u001b[1;34m'cost'\u001b[0m\u001b[1;33m:\u001b[0m\u001b[1;36m1\u001b[0m\u001b[1;33m,\u001b[0m \u001b[1;31m#$/watt\u001b[0m\u001b[1;33m\u001b[0m\u001b[0m\n\u001b[0;32m      9\u001b[0m     \u001b[1;34m'density'\u001b[0m\u001b[1;33m:\u001b[0m\u001b[1;36m.3\u001b[0m\u001b[1;33m,\u001b[0m\u001b[1;33m\u001b[0m\u001b[0m\n\u001b[1;32m---> 10\u001b[1;33m     \u001b[1;34m'area_desity, W/srft'\u001b[0m\u001b[1;33m:\u001b[0m\u001b[0msolar_cost\u001b[0m\u001b[1;33m[\u001b[0m\u001b[1;34m'ave_energymax'\u001b[0m\u001b[1;33m]\u001b[0m\u001b[1;33m/\u001b[0m\u001b[1;33m(\u001b[0m\u001b[0msolar_cost\u001b[0m\u001b[1;33m[\u001b[0m\u001b[1;34m'ave_area'\u001b[0m\u001b[1;33m]\u001b[0m\u001b[1;33m/\u001b[0m\u001b[0msolar_cost\u001b[0m\u001b[1;33m[\u001b[0m\u001b[1;34m'density'\u001b[0m\u001b[1;33m]\u001b[0m\u001b[1;33m)\u001b[0m\u001b[1;33m,\u001b[0m\u001b[1;33m\u001b[0m\u001b[0m\n\u001b[0m\u001b[0;32m     11\u001b[0m     \u001b[1;34m\"acres per MW\"\u001b[0m\u001b[1;33m:\u001b[0m\u001b[1;36m10\u001b[0m\u001b[1;33m,\u001b[0m\u001b[1;33m\u001b[0m\u001b[0m\n\u001b[0;32m     12\u001b[0m     \u001b[1;34m\"units\"\u001b[0m\u001b[1;33m:\u001b[0m\u001b[1;36m10\u001b[0m\u001b[1;33m**\u001b[0m\u001b[1;36m1\u001b[0m\u001b[1;33m/\u001b[0m\u001b[1;36m10\u001b[0m\u001b[1;33m**\u001b[0m\u001b[1;36m1\u001b[0m\u001b[1;33m,\u001b[0m\u001b[1;31m#$/W\u001b[0m\u001b[1;33m\u001b[0m\u001b[0m\n",
      "\u001b[1;31mNameError\u001b[0m: name 'solar_cost' is not defined"
     ]
    }
   ],
   "source": [
    "#Solar\n",
    "\n",
    "#ave_cost_utility\n",
    "\n",
    "solar_cost={\n",
    "    'ave_area':17,# #sqft \n",
    "    'ave_energymax': 265, #watts\n",
    "    'cost':1, #$/watt\n",
    "    'density':.3,\n",
    "    'area_desity, W/srft':solar_cost['ave_energymax']/(solar_cost['ave_area']/solar_cost['density']),\n",
    "    \"acres per MW\":10,\n",
    "    \"units\":10**1/10**1,#$/W\n",
    "    \"lo_range_cost_utilit, $\":.5, \n",
    "    \"hi_range_cost_utilit, $\":1.5, \n",
    "    \"ave_cost_utility, $\":(solar_cost[\"hi_range_cost_utilit, $\"]-solar_cost[\"lo_range_cost_utilit, $\"]),\n",
    "    \"cost_data\":[.5,1.5]\n",
    "    \n",
    "}"
   ]
  },
  {
   "cell_type": "code",
   "execution_count": 81,
   "metadata": {
    "collapsed": false
   },
   "outputs": [
    {
     "data": {
      "text/plain": [
       "{'acres per MW': 10,\n",
       " 'area_desity, W/srft': 4.6764705882352935,\n",
       " 'ave_area': 17,\n",
       " 'ave_cost_utility, $': 1.0,\n",
       " 'ave_energymax': 265,\n",
       " 'cost': 1,\n",
       " 'cost_data': [0.5, 1.5],\n",
       " 'density': 0.3,\n",
       " 'hi_range_cost_utilit, $': 1.5,\n",
       " 'lo_range_cost_utilit, $': 0.5,\n",
       " 'units': 1.0}"
      ]
     },
     "execution_count": 81,
     "metadata": {},
     "output_type": "execute_result"
    }
   ],
   "source": [
    "solar_cost"
   ]
  },
  {
   "cell_type": "code",
   "execution_count": 82,
   "metadata": {
    "collapsed": false
   },
   "outputs": [
    {
     "name": "stdout",
     "output_type": "stream",
     "text": [
      "9.81756934885549  acre for 2 MW,\n"
     ]
    }
   ],
   "source": [
    "print(2*10**6/(solar_cost['area_desity, W/srft'])/43562 , ' acre for 2 MW,')"
   ]
  },
  {
   "cell_type": "code",
   "execution_count": 83,
   "metadata": {
    "collapsed": true
   },
   "outputs": [],
   "source": [
    "# nuclear\n"
   ]
  },
  {
   "cell_type": "code",
   "execution_count": 84,
   "metadata": {
    "collapsed": true
   },
   "outputs": [],
   "source": [
    "nuclear_cost={\n",
    "#    'ave_area':17,# #sqft \n",
    "#    'ave_energymax': 265, #watts\n",
    "#    'cost':1, #$/watt\n",
    "#    'density':.3,\n",
    "#    'area_desity, W/srft':ave_energymax/(ave_area/density),\n",
    "    \"acres per MW\":832/(1000),\n",
    "    \"units\":10**1/10**1,#$/W\n",
    "    \"lo_range_cost_utilit, $\":.5, \n",
    "    \"hi_range_cost_utilit, $\":1.5, \n",
    "    \"ave_cost_utility, $\":(wind_cost[\"hi_range_cost_utilit\"]-wind_cost[\"lo_range_cost_utilit\"]),\n",
    "    \"cost_data\":[.5,1.5]\n",
    "    \n",
    "}"
   ]
  },
  {
   "cell_type": "code",
   "execution_count": 85,
   "metadata": {
    "collapsed": false
   },
   "outputs": [
    {
     "data": {
      "text/plain": [
       "{'acres per MW': 0.832,\n",
       " 'ave_cost_utility, $': 0.9000000000000001,\n",
       " 'cost_data': [0.5, 1.5],\n",
       " 'hi_range_cost_utilit, $': 1.5,\n",
       " 'lo_range_cost_utilit, $': 0.5,\n",
       " 'units': 1.0}"
      ]
     },
     "execution_count": 85,
     "metadata": {},
     "output_type": "execute_result"
    }
   ],
   "source": [
    "nuclear_cost"
   ]
  },
  {
   "cell_type": "code",
   "execution_count": 86,
   "metadata": {
    "collapsed": false
   },
   "outputs": [
    {
     "name": "stdout",
     "output_type": "stream",
     "text": [
      "1000 MW\n",
      "0.832  acres for nuclear\n",
      "[28.288, 47.424]  acres for solar\n",
      "[166.4, 229.63199999999998]  acres for solar\n"
     ]
    }
   ],
   "source": [
    "print('1000 MW')\n",
    "print(nuclear_cost['acres per MW'],' acres for nuclear')\n",
    "print([nuclear_cost['acres per MW']*i for i in [34,57]], ' acres for solar')\n",
    "print([nuclear_cost['acres per MW']*i for i in [200,276]], ' acres for solar')"
   ]
  },
  {
   "cell_type": "code",
   "execution_count": 87,
   "metadata": {
    "collapsed": false
   },
   "outputs": [],
   "source": [
    "#wind\n",
    "\n",
    "#ave_cost_utility\n",
    "wind_cost={\n",
    "    \"acres per MW\":87,\n",
    "    'area_desity, W/srft':ave_energymax/(ave_area/density),\n",
    "    \"units\":10**6/10**6,#$/W\n",
    "    \"lo_range_cost_utilit\":1.3, \n",
    "    \"hi_range_cost_utilit\":2.2, \n",
    "    \"ave_cost_utility\":(wind_cost[\"hi_range_cost_utilit\"]-wind_cost[\"lo_range_cost_utilit\"]),\n",
    "    \"cost_data\":[1,5,2,3]\n",
    "    \n",
    "}"
   ]
  },
  {
   "cell_type": "code",
   "execution_count": 88,
   "metadata": {
    "collapsed": false
   },
   "outputs": [
    {
     "data": {
      "text/plain": [
       "{'acres per MW': 87,\n",
       " 'area_desity, W/srft': 4.6764705882352935,\n",
       " 'ave_cost_utility': 0.9000000000000001,\n",
       " 'cost_data': [1, 5, 2, 3],\n",
       " 'hi_range_cost_utilit': 2.2,\n",
       " 'lo_range_cost_utilit': 1.3,\n",
       " 'units': 1.0}"
      ]
     },
     "execution_count": 88,
     "metadata": {},
     "output_type": "execute_result"
    }
   ],
   "source": [
    "wind_cost\n"
   ]
  },
  {
   "cell_type": "code",
   "execution_count": 89,
   "metadata": {
    "collapsed": true
   },
   "outputs": [],
   "source": [
    "import numpy as np"
   ]
  },
  {
   "cell_type": "code",
   "execution_count": 90,
   "metadata": {
    "collapsed": false
   },
   "outputs": [
    {
     "data": {
      "text/plain": [
       "(2.75, 2.75, 2.5)"
      ]
     },
     "execution_count": 90,
     "metadata": {},
     "output_type": "execute_result"
    }
   ],
   "source": [
    "np.average(wind_cost[\"cost_data\"]),np.mean(wind_cost[\"cost_data\"]),np.median(wind_cost[\"cost_data\"])"
   ]
  },
  {
   "cell_type": "code",
   "execution_count": null,
   "metadata": {
    "collapsed": true
   },
   "outputs": [],
   "source": []
  }
 ],
 "metadata": {
  "kernelspec": {
   "display_name": "Python 3",
   "language": "python",
   "name": "python3"
  },
  "language_info": {
   "codemirror_mode": {
    "name": "ipython",
    "version": 3
   },
   "file_extension": ".py",
   "mimetype": "text/x-python",
   "name": "python",
   "nbconvert_exporter": "python",
   "pygments_lexer": "ipython3",
   "version": "3.5.2"
  }
 },
 "nbformat": 4,
 "nbformat_minor": 2
}
