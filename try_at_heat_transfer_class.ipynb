{
 "cells": [
  {
   "cell_type": "code",
   "execution_count": 3,
   "metadata": {
    "collapsed": true
   },
   "outputs": [],
   "source": []
  },
  {
   "cell_type": "code",
   "execution_count": 1,
   "metadata": {
    "collapsed": false
   },
   "outputs": [
    {
     "ename": "NameError",
     "evalue": "name 'electricityUsed' is not defined",
     "output_type": "error",
     "traceback": [
      "\u001b[1;31m---------------------------------------------------------------------------\u001b[0m",
      "\u001b[1;31mNameError\u001b[0m                                 Traceback (most recent call last)",
      "\u001b[1;32m<ipython-input-1-25542201d43b>\u001b[0m in \u001b[0;36m<module>\u001b[1;34m()\u001b[0m\n\u001b[1;32m----> 1\u001b[1;33m \u001b[0melectricityUsed\u001b[0m\u001b[1;33m(\u001b[0m\u001b[0mcost\u001b[0m\u001b[1;33m=\u001b[0m\u001b[1;36m.12\u001b[0m\u001b[1;33m,\u001b[0m\u001b[0myearly_total\u001b[0m\u001b[1;33m=\u001b[0m\u001b[1;36m1200\u001b[0m\u001b[1;33m)\u001b[0m\u001b[1;33m\u001b[0m\u001b[0m\n\u001b[0m",
      "\u001b[1;31mNameError\u001b[0m: name 'electricityUsed' is not defined"
     ]
    }
   ],
   "source": [
    "electricityUsed(cost=.12,yearly_total=1200)"
   ]
  },
  {
   "cell_type": "code",
   "execution_count": 2,
   "metadata": {
    "collapsed": false
   },
   "outputs": [
    {
     "ename": "SyntaxError",
     "evalue": "invalid syntax (<ipython-input-2-63441389fb77>, line 1)",
     "output_type": "error",
     "traceback": [
      "\u001b[1;36m  File \u001b[1;32m\"<ipython-input-2-63441389fb77>\"\u001b[1;36m, line \u001b[1;32m1\u001b[0m\n\u001b[1;33m    26x10**6 #btu/cord\u001b[0m\n\u001b[1;37m        ^\u001b[0m\n\u001b[1;31mSyntaxError\u001b[0m\u001b[1;31m:\u001b[0m invalid syntax\n"
     ]
    }
   ],
   "source": [
    "26x10**6 #btu/cord\n",
    "\n"
   ]
  },
  {
   "cell_type": "code",
   "execution_count": 54,
   "metadata": {
    "collapsed": false
   },
   "outputs": [
    {
     "name": "stdout",
     "output_type": "stream",
     "text": [
      "**********************************************************************\n",
      "File \"__main__\", line ?, in __main__.heatTransfer\n",
      "Failed example:\n",
      "    heatTransfer.electricityUsed(.12,1200)\n",
      "Exception raised:\n",
      "    Traceback (most recent call last):\n",
      "      File \"C:\\Users\\aron\\Anaconda3\\lib\\doctest.py\", line 1321, in __run\n",
      "        compileflags, 1), test.globs)\n",
      "      File \"<doctest __main__.heatTransfer[0]>\", line 1, in <module>\n",
      "        heatTransfer.electricityUsed(.12,1200)\n",
      "    TypeError: electricityUsed() takes 1 positional argument but 2 were given\n",
      "**********************************************************************\n",
      "1 items had failures:\n",
      "   1 of   1 in __main__.heatTransfer\n",
      "***Test Failed*** 1 failures.\n"
     ]
    }
   ],
   "source": [
    "import doctest\n",
    "\n",
    "class heatTransfer():\n",
    "    \"\"\"\n",
    "    heat transfrer attempt to get info about heat transfer via a class\n",
    "    >>> heatTransfer.electricityUsed(.12,1200)\n",
    "    0.0\n",
    "    \"\"\"\n",
    "    \n",
    "    def __init__(self):\n",
    "        print(\"init started\")\n",
    "        self._cost=cost\n",
    "        self._yearly_total=yearly_total\n",
    "    \n",
    "    def electricityUsed(self):#,cost=.12,yearly_total=0):\n",
    "        \"\"\"\n",
    "        result: kWh\n",
    "        cost in $/kWh\n",
    "        yearly_total in $\n",
    "        \"\"\"\n",
    "        result=self.yearly_total/self.cost*3\n",
    "        print(result)\n",
    "        return result\n",
    "    \n",
    "if __name__ == \"__main__\": \n",
    "    doctest.testmod()"
   ]
  },
  {
   "cell_type": "code",
   "execution_count": 50,
   "metadata": {
    "collapsed": false
   },
   "outputs": [
    {
     "name": "stdout",
     "output_type": "stream",
     "text": [
      "0.0\n"
     ]
    },
    {
     "data": {
      "text/plain": [
       "0.0"
      ]
     },
     "execution_count": 50,
     "metadata": {},
     "output_type": "execute_result"
    }
   ],
   "source": [
    "(heatTransfer.electricityUsed(.12,1200))"
   ]
  },
  {
   "cell_type": "code",
   "execution_count": null,
   "metadata": {
    "collapsed": true
   },
   "outputs": [],
   "source": []
  }
 ],
 "metadata": {
  "kernelspec": {
   "display_name": "Python 3",
   "language": "python",
   "name": "python3"
  },
  "language_info": {
   "codemirror_mode": {
    "name": "ipython",
    "version": 3
   },
   "file_extension": ".py",
   "mimetype": "text/x-python",
   "name": "python",
   "nbconvert_exporter": "python",
   "pygments_lexer": "ipython3",
   "version": "3.5.2"
  }
 },
 "nbformat": 4,
 "nbformat_minor": 2
}
